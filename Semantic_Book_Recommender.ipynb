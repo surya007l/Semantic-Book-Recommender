{
  "cells": [
    {
      "cell_type": "code",
      "source": [
        "import pandas as pd\n",
        "from sklearn.feature_extraction.text import TfidfVectorizer\n",
        "from sklearn.metrics.pairwise import cosine_similarity\n",
        "\n",
        "def recommend_books(book_title, df, vectorizer, cosine_sim):\n",
        "    \"\"\"\n",
        "    Recommends books based on semantic similarity to a given book title.\n",
        "\n",
        "    Args:\n",
        "        book_title (str): The title of the book to get recommendations for.\n",
        "        df (pd.DataFrame): The DataFrame containing book data.\n",
        "        vectorizer (TfidfVectorizer): The fitted TF-IDF vectorizer.\n",
        "        cosine_sim (np.ndarray): The pre-computed cosine similarity matrix.\n",
        "\n",
        "    Returns:\n",
        "        pd.Series: A Series of recommended book titles, excluding the input book.\n",
        "    \"\"\"\n",
        "\n",
        "    try:\n",
        "        book_index = df[df['title'] == book_title].index[0]\n",
        "    except IndexError:\n",
        "        print(f\"Book '{book_title}' not found in the dataset. Please check the title.\")\n",
        "        return None\n",
        "\n",
        "\n",
        "    similarity_scores = list(enumerate(cosine_sim[book_index]))\n",
        "\n",
        "    similarity_scores = sorted(similarity_scores, key=lambda x: x[1], reverse=True)\n",
        "\n",
        "    top_similar_books = similarity_scores[1:6]\n",
        "\n",
        "\n",
        "    book_indices = [i[0] for i in top_similar_books]\n",
        "\n",
        "\n",
        "    return df['title'].iloc[book_indices]\n",
        "\n",
        "\n",
        "books_data = [\n",
        "    {'title': 'The Lord of the Rings', 'description': 'A fantasy epic about a quest to destroy a powerful ring.'},\n",
        "    {'title': 'The Hobbit', 'description': 'A fantasy adventure about a hobbit who joins a quest to reclaim a stolen treasure.'},\n",
        "    {'title': 'The Hitchhikers Guide to the Galaxy', 'description': 'A comedic science fiction series about an Englishman who is a survivor of the Earth’s destruction.'},\n",
        "    {'title': 'Dune', 'description': 'A science fiction masterpiece set on a desert planet at the center of a galactic conflict.'},\n",
        "    {'title': 'Game of Thrones', 'description': 'A medieval fantasy series following the struggle for power among noble houses.'},\n",
        "    {'title': '1984', 'description': 'A dystopian novel about a totalitarian regime and a man\\'s rebellion against it.'},\n",
        "    {'title': 'Brave New World', 'description': 'A dystopian science fiction novel about a society controlled by technology and social conditioning.'},\n",
        "    {'title': 'The Chronicles of Narnia', 'description': 'A high fantasy series about children who discover a magical world through a wardrobe.'},\n",
        "    {'title': 'Ender\\'s Game', 'description': 'A military science fiction novel about a brilliant child trained to lead humanity against an alien race.'},\n",
        "    {'title': 'Foundation', 'description': 'A science fiction series about a mathematician who predicts the fall of a galactic empire.'}\n",
        "]\n",
        "\n",
        "\n",
        "df = pd.DataFrame(books_data)\n",
        "\n",
        "df['combined_features'] = df['title'] + ' ' + df['description']\n",
        "\n",
        "tfidf_vectorizer = TfidfVectorizer(stop_words='english')\n",
        "tfidf_matrix = tfidf_vectorizer.fit_transform(df['combined_features'])\n",
        "\n",
        "cosine_sim = cosine_similarity(tfidf_matrix, tfidf_matrix)\n",
        "\n",
        "book_to_recommend_for = 'The Lord of the Rings'\n",
        "recommendations = recommend_books(book_to_recommend_for, df, tfidf_vectorizer, cosine_sim)\n",
        "\n",
        "if recommendations is not None:\n",
        "    print(f\"Top 5 recommendations for '{book_to_recommend_for}':\")\n",
        "    print(recommendations)"
      ],
      "outputs": [
        {
          "output_type": "stream",
          "name": "stdout",
          "text": [
            "Top 5 recommendations for 'The Lord of the Rings':\n",
            "1                             The Hobbit\n",
            "4                        Game of Thrones\n",
            "7               The Chronicles of Narnia\n",
            "2    The Hitchhikers Guide to the Galaxy\n",
            "3                                   Dune\n",
            "Name: title, dtype: object\n"
          ]
        }
      ],
      "execution_count": 1,
      "metadata": {
        "colab": {
          "base_uri": "https://localhost:8080/"
        },
        "id": "YyuTrs_YJoUh",
        "outputId": "96242397-0549-4afe-f47d-64d7bbfca840"
      }
    }
  ],
  "metadata": {
    "colab": {
      "provenance": []
    },
    "kernelspec": {
      "display_name": "Python 3",
      "name": "python3"
    }
  },
  "nbformat": 4,
  "nbformat_minor": 0
}